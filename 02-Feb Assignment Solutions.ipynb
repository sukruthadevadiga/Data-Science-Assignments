{
 "cells": [
  {
   "cell_type": "markdown",
   "id": "0f555669-a287-49e4-8e9c-92a8c061d848",
   "metadata": {},
   "source": [
    "Q1. What are the characteristics of the tuples? Is tuple immutable?"
   ]
  },
  {
   "cell_type": "markdown",
   "id": "c7b82d01-f51d-4593-9dfc-0d4d9e4b2c33",
   "metadata": {},
   "source": [
    "1.Tuples are ordered, indexed collections of data. Similar to string indices, the first value in the tuple will have the index [0], the second value [1], and so on. \n",
    "2.Tuples can store duplicate values.\n",
    "3.Once data is assigned to a tuple, the values cannot be changed.\n",
    "4.Tuples allow you to store several data items in one variable. You can choose to store only one kind of data in a tuple or mix it up as needed.\n",
    "\n",
    "Tuples are immutable"
   ]
  },
  {
   "cell_type": "markdown",
   "id": "35d11512-be19-4f28-b33e-14ddff58c757",
   "metadata": {},
   "source": [
    "Q2. What are the two tuple methods in python? Give an example of each method. Give a reason why\n",
    "tuples have only two in-built methods as compared to Lists."
   ]
  },
  {
   "cell_type": "markdown",
   "id": "b62c6fdc-84bc-4354-92ea-2cc9114c9729",
   "metadata": {},
   "source": [
    ".count() and .index() are the two tuple methods in python.\n"
   ]
  },
  {
   "cell_type": "code",
   "execution_count": 1,
   "id": "d6a7a248-b73c-4abf-a2dd-96a9cdd007c1",
   "metadata": {},
   "outputs": [
    {
     "data": {
      "text/plain": [
       "1"
      ]
     },
     "execution_count": 1,
     "metadata": {},
     "output_type": "execute_result"
    }
   ],
   "source": [
    "#example1:\n",
    "t1 = (1,2,45,6,7,'sk','kero')\n",
    "t1.count(2)"
   ]
  },
  {
   "cell_type": "code",
   "execution_count": 2,
   "id": "263612d3-cac8-43c6-b4d0-d6cedb8602f2",
   "metadata": {},
   "outputs": [
    {
     "data": {
      "text/plain": [
       "6"
      ]
     },
     "execution_count": 2,
     "metadata": {},
     "output_type": "execute_result"
    }
   ],
   "source": [
    "#example2:\n",
    "t1 = (1,2,45,6,7,'sk','kero')\n",
    "t1.index('kero')"
   ]
  },
  {
   "cell_type": "markdown",
   "id": "74e3aefd-615c-42d1-84ce-c8235c5f6cca",
   "metadata": {},
   "source": [
    "Tuple are basically follows Immutability concepts where it is not going to allow to change any element at a particular index"
   ]
  },
  {
   "cell_type": "markdown",
   "id": "da56049b-193d-481f-9a46-b64fc0df7a2e",
   "metadata": {},
   "source": [
    "Q3. Which collection datatypes in python do not allow duplicate items? Write a code using a set to remove\n",
    "duplicates from the given list.\n",
    "List = [1, 1, 1, 2, 1, 3, 1, 4, 2, 1, 2, 2, 2, 3, 2, 4, 3, 1, 3, 2, 3, 3, 3, 4, 4, 1, 4, 2, 4, 3, 4, 4]"
   ]
  },
  {
   "cell_type": "markdown",
   "id": "6e7549d9-4241-40fb-a40c-aa1fb37c1661",
   "metadata": {},
   "source": [
    "sets in python do not allow duplicate items"
   ]
  },
  {
   "cell_type": "code",
   "execution_count": 3,
   "id": "c132f6c9-acc9-4e0d-be52-db07cd855268",
   "metadata": {},
   "outputs": [
    {
     "data": {
      "text/plain": [
       "{1, 2, 3, 4}"
      ]
     },
     "execution_count": 3,
     "metadata": {},
     "output_type": "execute_result"
    }
   ],
   "source": [
    "List = [1, 1, 1, 2, 1, 3, 1, 4, 2, 1, 2, 2, 2, 3, 2, 4, 3, 1, 3, 2, 3, 3, 3, 4, 4, 1, 4, 2, 4, 3, 4, 4]\n",
    "set(List)"
   ]
  },
  {
   "cell_type": "markdown",
   "id": "4d7c5b90-0d2c-475b-b996-b2ea0f6991d7",
   "metadata": {},
   "source": [
    "Q4. Explain the difference between the union() and update() methods for a set. Give an example of\n",
    "each method."
   ]
  },
  {
   "cell_type": "markdown",
   "id": "1883a905-99f1-4379-abe0-6ee5bf7a3fb7",
   "metadata": {},
   "source": [
    "set.update() adds all missing elements to the set on which it is called, whereas set.union() creates a new set. "
   ]
  },
  {
   "cell_type": "code",
   "execution_count": 4,
   "id": "06455e94-06aa-4642-bad0-3b8d9b2fe008",
   "metadata": {},
   "outputs": [
    {
     "name": "stdout",
     "output_type": "stream",
     "text": [
      "{'google', 'cherry', 'banana', 'apple', 'microsoft'}\n"
     ]
    }
   ],
   "source": [
    "#set.union example\n",
    "x = {\"apple\", \"banana\", \"cherry\"}\n",
    "y = {\"google\", \"microsoft\", \"apple\"}\n",
    "\n",
    "z = x.union(y)\n",
    "\n",
    "print(z)"
   ]
  },
  {
   "cell_type": "code",
   "execution_count": 5,
   "id": "6aa28227-1713-44ba-b3f5-c17267c4c50c",
   "metadata": {},
   "outputs": [
    {
     "name": "stdout",
     "output_type": "stream",
     "text": [
      "{'google', 'banana', 'cherry', 'apple', 'microsoft'}\n"
     ]
    }
   ],
   "source": [
    "#set.update example\n",
    "x = {\"apple\", \"banana\", \"cherry\"}\n",
    "y = {\"google\", \"microsoft\", \"apple\"}\n",
    "\n",
    "x.update(y)\n",
    "\n",
    "print(x)"
   ]
  },
  {
   "cell_type": "markdown",
   "id": "a514c8ef-affe-4e4b-a024-e9003536eea2",
   "metadata": {},
   "source": [
    "Q5. What is a dictionary? Give an example. Also, state whether a dictionary is ordered or unordered."
   ]
  },
  {
   "cell_type": "markdown",
   "id": "a68eff8a-b030-4ec7-82ef-cab9da43d987",
   "metadata": {},
   "source": [
    "Dictionaries are used to store data values in key:value pairs. "
   ]
  },
  {
   "cell_type": "code",
   "execution_count": 14,
   "id": "14772e89-c275-4e58-80df-b3a0a39ed10b",
   "metadata": {},
   "outputs": [],
   "source": [
    "#example\n",
    "d1 = {\"name\":\"sk\",\"email_id\":\"sk@gmail.com\",\"number\":\"234632\"}"
   ]
  },
  {
   "cell_type": "code",
   "execution_count": 15,
   "id": "34b6aafe-2e6f-4c54-9f0a-e8464474ddc7",
   "metadata": {},
   "outputs": [
    {
     "data": {
      "text/plain": [
       "{'name': 'sk', 'email_id': 'sk@gmail.com', 'number': '234632'}"
      ]
     },
     "execution_count": 15,
     "metadata": {},
     "output_type": "execute_result"
    }
   ],
   "source": [
    "d1"
   ]
  },
  {
   "cell_type": "markdown",
   "id": "f6c2f8cc-04ca-47a2-98ee-4a0cbe8029d2",
   "metadata": {},
   "source": [
    "a dictionary is ordered"
   ]
  },
  {
   "cell_type": "markdown",
   "id": "ab87c0bc-8caf-4bba-9ab4-1fc2c2def1f1",
   "metadata": {},
   "source": [
    "Q6. Can we create a nested dictionary? If so, please give an example by creating a simple one-level\n",
    "nested dictionary."
   ]
  },
  {
   "cell_type": "markdown",
   "id": "523fce19-dba2-47e5-81ae-a893108ce6e1",
   "metadata": {},
   "source": [
    "Yes we can create a nested dictionary.\n"
   ]
  },
  {
   "cell_type": "code",
   "execution_count": 12,
   "id": "f4f83d6d-6171-4797-87bd-e224e4a4463e",
   "metadata": {},
   "outputs": [],
   "source": [
    "#example\n",
    "d2 = {\"key\": {\"name\":\"sk\",\"email_id\":\"sk@gmail.com\",\"number\":\"9148726537\"}}"
   ]
  },
  {
   "cell_type": "code",
   "execution_count": 13,
   "id": "ebd3c2ab-2bf3-4700-94a7-2ffab0e08f7f",
   "metadata": {},
   "outputs": [
    {
     "data": {
      "text/plain": [
       "{'key': {'name': 'sk', 'email_id': 'sk@gmail.com', 'number': '9148726537'}}"
      ]
     },
     "execution_count": 13,
     "metadata": {},
     "output_type": "execute_result"
    }
   ],
   "source": [
    "d2"
   ]
  },
  {
   "cell_type": "markdown",
   "id": "899c5871-c001-4cb3-9dd3-6a222417cc29",
   "metadata": {},
   "source": [
    "Q7. Using setdefault() method, create key named topics in the given dictionary and also add the value of\n",
    "the key as this list ['Python', 'Machine Learning’, 'Deep Learning']\n",
    "                      \n",
    "dict1 = {'language' : 'Python', 'course': 'Data Science Masters'}"
   ]
  },
  {
   "cell_type": "code",
   "execution_count": 20,
   "id": "ba291591-0589-4d3c-8059-92876bd9bb24",
   "metadata": {},
   "outputs": [
    {
     "name": "stdout",
     "output_type": "stream",
     "text": [
      "{'language': 'Python', 'course': 'Data Science Masters', 'topics': \"['Python', 'Machine Learning’, 'Deep Learning']\"}\n"
     ]
    }
   ],
   "source": [
    "dict1 = {'language' : 'Python', 'course': 'Data Science Masters'}\n",
    "dict1.setdefault(\"topics\",\"['Python', 'Machine Learning’, 'Deep Learning']\")\n",
    "print(dict1)"
   ]
  },
  {
   "cell_type": "markdown",
   "id": "f97af471-eb5c-4aa3-ad8e-1c1eba3a28e2",
   "metadata": {},
   "source": [
    "Q8. What are the three view objects in dictionaries? Use the three in-built methods in python to display\n",
    "these three view objects for the given dictionary.\n",
    "dict1 = {'Sport': 'Cricket' , 'Teams': ['India', 'Australia', 'England', 'South Africa', 'Sri Lanka', 'New Zealand']}"
   ]
  },
  {
   "cell_type": "markdown",
   "id": "4bff468e-b4c4-4c4d-9ea7-0def0d4272fa",
   "metadata": {},
   "source": [
    "Three view objects in dictionaries are key,valuesa and items."
   ]
  },
  {
   "cell_type": "code",
   "execution_count": 24,
   "id": "a274cdf7-3d0b-491f-8498-ce822516168c",
   "metadata": {},
   "outputs": [
    {
     "data": {
      "text/plain": [
       "dict_keys(['Sport', 'Teams'])"
      ]
     },
     "execution_count": 24,
     "metadata": {},
     "output_type": "execute_result"
    }
   ],
   "source": [
    "dict1 = {'Sport': 'Cricket' , 'Teams': ['India', 'Australia', 'England', 'South Africa', 'Sri Lanka', 'New Zealand']}\n",
    "dict1.keys()"
   ]
  },
  {
   "cell_type": "code",
   "execution_count": 27,
   "id": "84ed297b-d31f-426f-83bc-154c7b3e9615",
   "metadata": {},
   "outputs": [
    {
     "data": {
      "text/plain": [
       "dict_values(['Cricket', ['India', 'Australia', 'England', 'South Africa', 'Sri Lanka', 'New Zealand']])"
      ]
     },
     "execution_count": 27,
     "metadata": {},
     "output_type": "execute_result"
    }
   ],
   "source": [
    "dict1.values()"
   ]
  },
  {
   "cell_type": "code",
   "execution_count": 26,
   "id": "f0d94b5f-cee0-4479-a0b7-6c05ad9c9136",
   "metadata": {},
   "outputs": [
    {
     "data": {
      "text/plain": [
       "dict_items([('Sport', 'Cricket'), ('Teams', ['India', 'Australia', 'England', 'South Africa', 'Sri Lanka', 'New Zealand'])])"
      ]
     },
     "execution_count": 26,
     "metadata": {},
     "output_type": "execute_result"
    }
   ],
   "source": [
    "dict1.items()"
   ]
  },
  {
   "cell_type": "code",
   "execution_count": null,
   "id": "895064b2-9402-43d5-99cb-7393d3fb0c16",
   "metadata": {},
   "outputs": [],
   "source": []
  }
 ],
 "metadata": {
  "kernelspec": {
   "display_name": "Python 3 (ipykernel)",
   "language": "python",
   "name": "python3"
  },
  "language_info": {
   "codemirror_mode": {
    "name": "ipython",
    "version": 3
   },
   "file_extension": ".py",
   "mimetype": "text/x-python",
   "name": "python",
   "nbconvert_exporter": "python",
   "pygments_lexer": "ipython3",
   "version": "3.10.8"
  }
 },
 "nbformat": 4,
 "nbformat_minor": 5
}
