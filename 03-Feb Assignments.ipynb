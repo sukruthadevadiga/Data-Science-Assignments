{
 "cells": [
  {
   "cell_type": "markdown",
   "id": "231b2a51-c124-4485-8ba1-97dc4a5786aa",
   "metadata": {},
   "source": [
    "### Q1. Which keyword is used to create a function? Create a function to return a list of odd numbers in the range of 1 to 25."
   ]
  },
  {
   "cell_type": "markdown",
   "id": "1fb1e8ec-eb14-470d-a51f-2413174b5239",
   "metadata": {},
   "source": [
    "The 'def' keyword is used to create a function in python."
   ]
  },
  {
   "cell_type": "code",
   "execution_count": 4,
   "id": "7399f0ad-37e1-410d-8533-6d9c86af1b4e",
   "metadata": {},
   "outputs": [],
   "source": [
    "l = [1,2,3,4,5,6,7,8,9,10,11,12,13,14,15,16,17,18,19,20,21,22,23,24,25,26]"
   ]
  },
  {
   "cell_type": "code",
   "execution_count": 9,
   "id": "143d5f13-c5e6-41cb-8d02-113d3b8ecf57",
   "metadata": {},
   "outputs": [],
   "source": [
    "def test(a):\n",
    "    n =[]\n",
    "    for i in range(1,25):\n",
    "         if(i % 2 != 0):\n",
    "            n.append(i)\n",
    "    return n"
   ]
  },
  {
   "cell_type": "code",
   "execution_count": 10,
   "id": "da1150f5-5f8b-4dd9-a949-d9a6f4d8e829",
   "metadata": {},
   "outputs": [
    {
     "data": {
      "text/plain": [
       "[1, 3, 5, 7, 9, 11, 13, 15, 17, 19, 21, 23]"
      ]
     },
     "execution_count": 10,
     "metadata": {},
     "output_type": "execute_result"
    }
   ],
   "source": [
    "test(l)"
   ]
  },
  {
   "cell_type": "markdown",
   "id": "72d31f2b-6f2c-4b24-aef4-4428b49d3f81",
   "metadata": {
    "tags": []
   },
   "source": [
    "### Q2. Why *args and **kwargs is used in some functions? Create a function each for *args and **kwargs to demonstrate their use."
   ]
  },
  {
   "cell_type": "markdown",
   "id": "2b64dd69-f208-4170-b21d-d4837375eeb4",
   "metadata": {},
   "source": [
    "*args is used to give 'n' number of inputs. **kwargs is used to give 'n' number of 'key' and 'value' pairs."
   ]
  },
  {
   "cell_type": "code",
   "execution_count": 12,
   "id": "c85dc817-8ee4-4bc5-a73a-b3fe9e3aedf2",
   "metadata": {},
   "outputs": [],
   "source": [
    "def test1(*args):\n",
    "    return args"
   ]
  },
  {
   "cell_type": "code",
   "execution_count": 13,
   "id": "635648ae-7566-4660-ab6c-ed4c2ed69be0",
   "metadata": {},
   "outputs": [
    {
     "data": {
      "text/plain": [
       "(1, 2, 3, 4, 5, 5, 6, 'sk', 'hero')"
      ]
     },
     "execution_count": 13,
     "metadata": {},
     "output_type": "execute_result"
    }
   ],
   "source": [
    "test1(1,2,3,4,5,5,6,\"sk\",\"hero\")"
   ]
  },
  {
   "cell_type": "code",
   "execution_count": 16,
   "id": "35169811-1773-42eb-800d-00a178ed5ae6",
   "metadata": {},
   "outputs": [],
   "source": [
    "def test2(**kwargs):\n",
    "\tfor key, value in kwargs.items():\n",
    "\t\tprint(\"%s == %s\" % (key, value))"
   ]
  },
  {
   "cell_type": "code",
   "execution_count": 17,
   "id": "1f52919d-37c1-4ae1-ada4-b9aff3aaa657",
   "metadata": {},
   "outputs": [
    {
     "name": "stdout",
     "output_type": "stream",
     "text": [
      "first == sk\n",
      "mid == is\n",
      "last == great\n"
     ]
    }
   ],
   "source": [
    "test2(first='sk', mid='is', last='great')"
   ]
  },
  {
   "cell_type": "markdown",
   "id": "7b2e2461-9634-42f6-8296-4cebf6049f3e",
   "metadata": {},
   "source": [
    "### Q3. What is an iterator in python? Name the method used to initialise the iterator object and the method used for iteration. Use these methods to print the first five elements of the given list [2, 4, 6, 8, 10, 12, 14, 16, 18, 20]."
   ]
  },
  {
   "cell_type": "markdown",
   "id": "6b64733e-dc3e-43e3-b65e-2b8a8cdbe0bb",
   "metadata": {},
   "source": [
    "An iterator is an object that contains a countable number of values. An iterator is an object that can be iterated upon, meaning that you can traverse through all the values.\n",
    "The iterator object is initialized using the iter() method. It uses the next() method for iteration.\n"
   ]
  },
  {
   "cell_type": "markdown",
   "id": "e454bf39-a4ca-4418-86e9-3826cfac2e05",
   "metadata": {},
   "source": [
    "### Q4. What is a generator function in python? Why yield keyword is used? Give an example of a generator function."
   ]
  },
  {
   "cell_type": "markdown",
   "id": "c739c5ca-75f1-49b0-801c-4374f935b59f",
   "metadata": {},
   "source": [
    "A generator is a function that returns an iterator that produces a sequence of values when iterated over. Generators are useful when we want to produce a large sequence of values, but we don't want to store all of them in memory at once.\n",
    "\n",
    "yield keyword is used to create a generator function."
   ]
  },
  {
   "cell_type": "code",
   "execution_count": 24,
   "id": "be3c46f7-a2e1-4ff7-9c85-50c6d1049393",
   "metadata": {},
   "outputs": [],
   "source": [
    "#example\n",
    "def simple():\n",
    "    for i in range(10):\n",
    "        if(i%2==0):\n",
    "            yield i"
   ]
  },
  {
   "cell_type": "code",
   "execution_count": 25,
   "id": "32b66808-aed1-4bca-8ea5-4d017f7b92f7",
   "metadata": {},
   "outputs": [
    {
     "data": {
      "text/plain": [
       "<generator object simple at 0x7f6450c3bf40>"
      ]
     },
     "execution_count": 25,
     "metadata": {},
     "output_type": "execute_result"
    }
   ],
   "source": [
    "simple()"
   ]
  },
  {
   "cell_type": "code",
   "execution_count": 26,
   "id": "37569ad3-b812-40db-ad3b-e9f5ff4b7baa",
   "metadata": {},
   "outputs": [
    {
     "name": "stdout",
     "output_type": "stream",
     "text": [
      "0\n",
      "2\n",
      "4\n",
      "6\n",
      "8\n"
     ]
    }
   ],
   "source": [
    "for i in simple():\n",
    "    print(i) "
   ]
  },
  {
   "cell_type": "markdown",
   "id": "b1a09891-5639-4df8-93fe-6320d81254ca",
   "metadata": {},
   "source": [
    "### Q5. Create a generator function for prime numbers less than 1000. Use the next() method to print the first 20 prime numbers."
   ]
  },
  {
   "cell_type": "code",
   "execution_count": null,
   "id": "535b126a-ae17-48d7-9e92-00ceeb072008",
   "metadata": {},
   "outputs": [],
   "source": [
    "def getPrimes(n):\n",
    "    i = 2\n",
    "    while i < n :\n",
    "        for a in range(2, i):\n",
    "            if i % a == 0:\n",
    "                break\n",
    "        else:    \n",
    "            yield i"
   ]
  },
  {
   "cell_type": "code",
   "execution_count": null,
   "id": "28b87279-c64a-41d5-9758-cf268b7d7cc0",
   "metadata": {},
   "outputs": [],
   "source": [
    "getPrimes(10)\n",
    "pri"
   ]
  },
  {
   "cell_type": "code",
   "execution_count": null,
   "id": "a4b8f950-d0d7-485e-b28a-98b4b5513b95",
   "metadata": {},
   "outputs": [],
   "source": []
  }
 ],
 "metadata": {
  "kernelspec": {
   "display_name": "Python 3 (ipykernel)",
   "language": "python",
   "name": "python3"
  },
  "language_info": {
   "codemirror_mode": {
    "name": "ipython",
    "version": 3
   },
   "file_extension": ".py",
   "mimetype": "text/x-python",
   "name": "python",
   "nbconvert_exporter": "python",
   "pygments_lexer": "ipython3",
   "version": "3.10.8"
  }
 },
 "nbformat": 4,
 "nbformat_minor": 5
}
