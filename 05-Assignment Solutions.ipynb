{
 "cells": [
  {
   "cell_type": "markdown",
   "id": "c81fa0a6-c202-4ba8-9c5c-c724f4b94ac1",
   "metadata": {},
   "source": [
    "### Q1. Explain Class and Object with respect to Object-Oriented Programming. Give a suitable example."
   ]
  },
  {
   "cell_type": "markdown",
   "id": "ea109d73-9506-4a98-ba42-e669e7229b43",
   "metadata": {},
   "source": [
    "Classes are user-defined data types that act as the blueprint for individual objects, attributes and methods.\n",
    "\n",
    "Objects are instances of a class created with specifically defined data. Objects can correspond to real-world objects or an abstract entity."
   ]
  },
  {
   "cell_type": "code",
   "execution_count": 1,
   "id": "fded841a-18f5-48e7-864c-560d9ae2647c",
   "metadata": {},
   "outputs": [],
   "source": [
    "#example\n",
    "class pwskills():\n",
    "    \n",
    "    def welcome_msg(self):\n",
    "        print(\"Welcometo PWSkills\")"
   ]
  },
  {
   "cell_type": "code",
   "execution_count": 6,
   "id": "ac220b9c-bd35-48f0-849b-2f5aa9732e2b",
   "metadata": {},
   "outputs": [
    {
     "name": "stdout",
     "output_type": "stream",
     "text": [
      "Welcometo PWSkills\n"
     ]
    }
   ],
   "source": [
    "rohan = pwskills()\n",
    "rohan.welcome_msg()"
   ]
  },
  {
   "cell_type": "markdown",
   "id": "4166fcc7-3213-4909-84da-2024114c8c82",
   "metadata": {},
   "source": [
    "Here 'pwskills' is a class and 'rohan' is an object"
   ]
  },
  {
   "cell_type": "markdown",
   "id": "277ae643-c7d9-4f4c-8f96-c497c34f5006",
   "metadata": {},
   "source": [
    "### Q2. Name the four pillars of OOPs."
   ]
  },
  {
   "cell_type": "markdown",
   "id": "9e840631-b921-4ef1-a35e-350ed96b6e46",
   "metadata": {},
   "source": [
    "1.Inheritance\n",
    "2.Polymorphism\n",
    "3.Encapsulation\n",
    "4.Abstraction"
   ]
  },
  {
   "cell_type": "markdown",
   "id": "817b463e-e3c6-480d-bc5e-b8f1d487d651",
   "metadata": {},
   "source": [
    "### Q3. Explain why the __init__() function is used. Give a suitable example."
   ]
  },
  {
   "cell_type": "markdown",
   "id": "d0fa6e6d-e405-4459-961a-e867fb2b4d8f",
   "metadata": {},
   "source": [
    "init() is a Constructor in Python. Constructors are used to initializing the object’s state. The task of constructors is to initialize(assign values) to the data members of the class when an object of the class is created."
   ]
  },
  {
   "cell_type": "code",
   "execution_count": 7,
   "id": "563725ce-26dd-4ab8-a786-e5f454677c14",
   "metadata": {},
   "outputs": [
    {
     "name": "stdout",
     "output_type": "stream",
     "text": [
      "Hello, my name is Nikhil\n"
     ]
    }
   ],
   "source": [
    "#example\n",
    "class Person:\n",
    "    \n",
    "\tdef __init__(self, name):\n",
    "\t\tself.name = name\n",
    "\n",
    "\tdef say_hi(self):\n",
    "\t\tprint('Hello, my name is', self.name)\n",
    "\n",
    "p = Person('Nikhil')\n",
    "p.say_hi()\n"
   ]
  },
  {
   "cell_type": "markdown",
   "id": "99968c38-ae71-4d6b-9abc-1b97ac1141b2",
   "metadata": {},
   "source": [
    "### Q4. Why self is used in OOPs?"
   ]
  },
  {
   "cell_type": "markdown",
   "id": "a5740bb7-0cf9-46dd-ae45-2568c7a1996f",
   "metadata": {},
   "source": [
    "The 'self' represents the instance of the class. By using the “self” we can access the attributes and methods of the class in python. It binds the attributes with the given arguments. It works as a reference to the object."
   ]
  },
  {
   "cell_type": "markdown",
   "id": "cdd30f15-d9a1-4b7b-b6b7-766cfca2b802",
   "metadata": {},
   "source": [
    "### Q5. What is inheritance? Give an example for each type of inheritance."
   ]
  },
  {
   "cell_type": "markdown",
   "id": "09b89061-204f-4e9c-a1ee-ca4e7108aa8f",
   "metadata": {},
   "source": [
    "Inheritance allows us to define a class that inherits all the methods and properties from another class. Here, Parent class is the class being inherited from, also called base class. Child class is the class that inherits from another class, also called derived class."
   ]
  },
  {
   "cell_type": "code",
   "execution_count": 8,
   "id": "760cfa31-8d46-4316-9961-36a8e4915151",
   "metadata": {},
   "outputs": [],
   "source": [
    "#example\n",
    "class Person():\n",
    "    \n",
    "    def __init__(self, f_name, l_name):\n",
    "        self.f_name = f_name\n",
    "        self.l_name = l_name\n",
    "        \n",
    "    def print_name(self):\n",
    "        print(self.f_name, self.l_name)"
   ]
  },
  {
   "cell_type": "code",
   "execution_count": 13,
   "id": "a6d39976-d9f2-43c8-b1f0-2be7ee37dc89",
   "metadata": {},
   "outputs": [
    {
     "name": "stdout",
     "output_type": "stream",
     "text": [
      "Sham Sharma\n"
     ]
    }
   ],
   "source": [
    "x = Person(\"Sham\", \"Sharma\")\n",
    "x.print_name()"
   ]
  },
  {
   "cell_type": "code",
   "execution_count": 17,
   "id": "c6c0fa41-38ae-42ba-80a4-f0369db944b1",
   "metadata": {},
   "outputs": [],
   "source": [
    "#creating a child class 'Student' inside parent class 'Person'\n",
    "class Student(Person):\n",
    "    pass"
   ]
  },
  {
   "cell_type": "code",
   "execution_count": 18,
   "id": "4563e7d8-c689-43e8-abed-fccb44e88283",
   "metadata": {},
   "outputs": [
    {
     "name": "stdout",
     "output_type": "stream",
     "text": [
      "Rajesh Shetty\n"
     ]
    }
   ],
   "source": [
    "x = Student(\"Rajesh\",\"Shetty\")\n",
    "x.print_name()"
   ]
  },
  {
   "cell_type": "code",
   "execution_count": 12,
   "id": "a0909012-6516-439d-af92-d689c8332ff3",
   "metadata": {},
   "outputs": [],
   "source": []
  },
  {
   "cell_type": "code",
   "execution_count": null,
   "id": "a0a1858b-1da0-4ec9-b414-b78aa57b7c31",
   "metadata": {},
   "outputs": [],
   "source": []
  }
 ],
 "metadata": {
  "kernelspec": {
   "display_name": "Python 3 (ipykernel)",
   "language": "python",
   "name": "python3"
  },
  "language_info": {
   "codemirror_mode": {
    "name": "ipython",
    "version": 3
   },
   "file_extension": ".py",
   "mimetype": "text/x-python",
   "name": "python",
   "nbconvert_exporter": "python",
   "pygments_lexer": "ipython3",
   "version": "3.10.8"
  }
 },
 "nbformat": 4,
 "nbformat_minor": 5
}
