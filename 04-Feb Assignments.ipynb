{
 "cells": [
  {
   "cell_type": "markdown",
   "id": "89e2a9c2-d2f1-4f49-aaff-84178f30b4cd",
   "metadata": {},
   "source": [
    "### Q1. Create a python program to sort the given list of tuples based on integer value using a lambda function. [('Sachin Tendulkar', 34357), ('Ricky Ponting', 27483), ('Jack Kallis', 25534), ('Virat Kohli', 24936)]"
   ]
  },
  {
   "cell_type": "code",
   "execution_count": 33,
   "id": "ab2dd25a-3044-43ee-b463-7a11ae9518cb",
   "metadata": {},
   "outputs": [
    {
     "name": "stdout",
     "output_type": "stream",
     "text": [
      "Original list of tuples:\n",
      "[('Sachin Tendulkar', 34357), ('Ricky Ponting', 27483), ('Jack Kallis', 25534), ('Virat Kohli', 24936)]\n",
      "\n",
      "Sorting the List of Tuples:\n",
      "[('Virat Kohli', 24936), ('Jack Kallis', 25534), ('Ricky Ponting', 27483), ('Sachin Tendulkar', 34357)]\n"
     ]
    }
   ],
   "source": [
    "l = [('Sachin Tendulkar', 34357), ('Ricky Ponting', 27483), ('Jack Kallis', 25534), ('Virat Kohli', 24936)]\n",
    "print(\"Original list of tuples:\")\n",
    "print(l)\n",
    "l.sort(key = lambda x: x[1])\n",
    "print(\"\\nSorting the List of Tuples:\")\n",
    "print(l)"
   ]
  },
  {
   "cell_type": "markdown",
   "id": "dd8d48e0-018e-4111-abea-20c4d5e7676c",
   "metadata": {
    "tags": []
   },
   "source": [
    "### Q2. Write a Python Program to find the squares of all the numbers in the given list of integers using lambda and map functions. [1, 2, 3, 4, 5, 6, 7, 8, 9, 10]"
   ]
  },
  {
   "cell_type": "code",
   "execution_count": 2,
   "id": "d6b24c32-8263-47d6-b6a4-96ae7c448622",
   "metadata": {
    "tags": []
   },
   "outputs": [
    {
     "data": {
      "text/plain": [
       "[1, 4, 9, 16, 25, 36, 49, 64, 81, 100]"
      ]
     },
     "execution_count": 2,
     "metadata": {},
     "output_type": "execute_result"
    }
   ],
   "source": [
    "l1 = [1, 2, 3, 4, 5, 6, 7, 8, 9, 10]\n",
    "list(map(lambda x : x**2, l1))"
   ]
  },
  {
   "cell_type": "markdown",
   "id": "305ccc04-143d-4787-9489-b9ef691a2432",
   "metadata": {},
   "source": [
    "### Q3. Write a python program to convert the given list of integers into a tuple of strings. Use map and lambda functions. Given String: [1, 2, 3, 4, 5, 6, 7, 8, 9, 10] Expected output: ('1', '2', '3', '4', '5', '6', '7', '8', '9', '10')"
   ]
  },
  {
   "cell_type": "code",
   "execution_count": 31,
   "id": "68c5b1dd-bc43-4938-9943-f9215fd3d5da",
   "metadata": {},
   "outputs": [
    {
     "name": "stdout",
     "output_type": "stream",
     "text": [
      "Tuple of strings:\n",
      "('1', '2', '3', '4', '5', '6', '7', '8', '9', '10')\n"
     ]
    }
   ],
   "source": [
    "nums_list = [1, 2, 3, 4, 5, 6, 7, 8, 9, 10]\n",
    "result_tuple = tuple(map(lambda x : str(x), nums_list))\n",
    "print(\"Tuple of strings:\")\n",
    "print(result_tuple)"
   ]
  },
  {
   "cell_type": "markdown",
   "id": "c641cb41-29c5-4d94-872e-7b5240831445",
   "metadata": {},
   "source": [
    "### Q4. Write a python program using reduce function to compute the product of a list containing numbers from 1 to 25."
   ]
  },
  {
   "cell_type": "code",
   "execution_count": 30,
   "id": "4baa2c6a-2eaa-48c1-bb4e-f24c61f98446",
   "metadata": {},
   "outputs": [
    {
     "name": "stdout",
     "output_type": "stream",
     "text": [
      "List of numbers from 1 to 25: [1, 2, 3, 4, 5, 6, 7, 8, 9, 10, 11, 12, 13, 14, 15, 16, 17, 18, 19, 20, 21, 22, 23, 24, 25]\n",
      "Product: 15511210043330985984000000\n"
     ]
    }
   ],
   "source": [
    "from functools import reduce\n",
    "nums = list(range(1,26))\n",
    "print(\"List of numbers from 1 to 25:\", list(range(1,26)))\n",
    "nums_product = reduce( lambda x, y: x * y, nums)\n",
    "print(\"Product:\",nums_product)"
   ]
  },
  {
   "cell_type": "markdown",
   "id": "22212ab8-ef8f-4178-8fd3-57cd414f2869",
   "metadata": {},
   "source": [
    "### Q5. Write a python program to filter the numbers in a given list that are divisible by 2 and 3 using the filter function [2, 3, 6, 9, 27, 60, 90, 120, 55, 46]"
   ]
  },
  {
   "cell_type": "code",
   "execution_count": 28,
   "id": "a8dd0186-b59c-4157-9975-89b99c66e8d5",
   "metadata": {},
   "outputs": [
    {
     "name": "stdout",
     "output_type": "stream",
     "text": [
      "Numbers in the list which are divisible by 2: [2, 6, 60, 90, 120, 46]\n",
      "Numbers in the list which are divisible by 3: [3, 6, 9, 27, 60, 90, 120]\n"
     ]
    }
   ],
   "source": [
    "l2 = [2, 3, 6, 9, 27, 60, 90, 120, 55, 46]\n",
    "a = list(filter(lambda x : x%2==0 , l2))\n",
    "print(\"Numbers in the list which are divisible by 2:\", a)\n",
    "b = list(filter(lambda x : x%3==0 , l2))\n",
    "print(\"Numbers in the list which are divisible by 3:\", b)"
   ]
  },
  {
   "cell_type": "markdown",
   "id": "bbc395ec-7842-44ca-973c-9a713bdf7509",
   "metadata": {},
   "source": [
    "### Q6. Write a python program to find palindromes in the given list of strings using lambda and filter function. ['python', 'php', 'aba', 'radar', 'level']"
   ]
  },
  {
   "cell_type": "code",
   "execution_count": 40,
   "id": "16041c7a-1f2d-4bc8-9ba4-56d8d3a09994",
   "metadata": {},
   "outputs": [
    {
     "name": "stdout",
     "output_type": "stream",
     "text": [
      "List of palindromes: ['php', 'aba', 'radar', 'level']\n"
     ]
    }
   ],
   "source": [
    "texts = ['python', 'php', 'aba', 'radar', 'level']\n",
    "result = list(filter(lambda x: x == \"\".join(reversed(x)), texts)) \n",
    "print(\"List of palindromes:\", result)"
   ]
  },
  {
   "cell_type": "code",
   "execution_count": null,
   "id": "03e7adb5-492d-44bf-aef5-79bc803c119b",
   "metadata": {},
   "outputs": [],
   "source": []
  },
  {
   "cell_type": "code",
   "execution_count": null,
   "id": "fb0b61ba-1957-4d28-a158-b037efe37263",
   "metadata": {},
   "outputs": [],
   "source": []
  }
 ],
 "metadata": {
  "kernelspec": {
   "display_name": "Python 3 (ipykernel)",
   "language": "python",
   "name": "python3"
  },
  "language_info": {
   "codemirror_mode": {
    "name": "ipython",
    "version": 3
   },
   "file_extension": ".py",
   "mimetype": "text/x-python",
   "name": "python",
   "nbconvert_exporter": "python",
   "pygments_lexer": "ipython3",
   "version": "3.10.8"
  }
 },
 "nbformat": 4,
 "nbformat_minor": 5
}
